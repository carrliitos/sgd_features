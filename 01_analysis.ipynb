{
 "cells": [
  {
   "cell_type": "code",
   "execution_count": 2,
   "id": "5b173314-5aae-4ce5-9d6c-165e8d9a4ffd",
   "metadata": {},
   "outputs": [],
   "source": [
    "import pandas as pd"
   ]
  },
  {
   "cell_type": "code",
   "execution_count": 3,
   "id": "914968bb-a958-456f-a582-aa52cf45f4fe",
   "metadata": {},
   "outputs": [],
   "source": [
    "data = \"./data/SGD_features.csv\"\n",
    "df = pd.read_csv(data)"
   ]
  },
  {
   "cell_type": "code",
   "execution_count": 4,
   "id": "0aca5b1c-f336-42b4-a7b4-c17bfb8c6479",
   "metadata": {},
   "outputs": [
    {
     "data": {
      "text/html": [
       "<div>\n",
       "<style scoped>\n",
       "    .dataframe tbody tr th:only-of-type {\n",
       "        vertical-align: middle;\n",
       "    }\n",
       "\n",
       "    .dataframe tbody tr th {\n",
       "        vertical-align: top;\n",
       "    }\n",
       "\n",
       "    .dataframe thead th {\n",
       "        text-align: right;\n",
       "    }\n",
       "</style>\n",
       "<table border=\"1\" class=\"dataframe\">\n",
       "  <thead>\n",
       "    <tr style=\"text-align: right;\">\n",
       "      <th></th>\n",
       "      <th>SGDID</th>\n",
       "      <th>FEATURE_TYPE</th>\n",
       "      <th>FEATURE_QUALIFIER</th>\n",
       "      <th>FEATURE_NAME</th>\n",
       "      <th>STANDARD_GENE_NAME</th>\n",
       "      <th>ALIAS</th>\n",
       "      <th>PARENT_FEATURE_NAME</th>\n",
       "      <th>SECONDARY_SGDID</th>\n",
       "      <th>CHROMOSOME</th>\n",
       "      <th>START_COORDINATE</th>\n",
       "      <th>STOP_COORDINATE</th>\n",
       "      <th>STRAND</th>\n",
       "      <th>GENETIC_POSITION</th>\n",
       "      <th>COORDINATE_VERSION</th>\n",
       "      <th>SEQUENCE_VERSION</th>\n",
       "      <th>DESCRIPTION</th>\n",
       "    </tr>\n",
       "  </thead>\n",
       "  <tbody>\n",
       "    <tr>\n",
       "      <th>0</th>\n",
       "      <td>S000031098</td>\n",
       "      <td>CDS</td>\n",
       "      <td>NaN</td>\n",
       "      <td>NaN</td>\n",
       "      <td>NaN</td>\n",
       "      <td>NaN</td>\n",
       "      <td>YAL069W</td>\n",
       "      <td>NaN</td>\n",
       "      <td>1</td>\n",
       "      <td>335.0</td>\n",
       "      <td>649.0</td>\n",
       "      <td>W</td>\n",
       "      <td>NaN</td>\n",
       "      <td>1996-07-31</td>\n",
       "      <td>1996-07-31</td>\n",
       "      <td>NaN</td>\n",
       "    </tr>\n",
       "    <tr>\n",
       "      <th>1</th>\n",
       "      <td>S000028594</td>\n",
       "      <td>ORF</td>\n",
       "      <td>Dubious</td>\n",
       "      <td>YAL068W-A</td>\n",
       "      <td>NaN</td>\n",
       "      <td>NaN</td>\n",
       "      <td>chromosome 1</td>\n",
       "      <td>NaN</td>\n",
       "      <td>1</td>\n",
       "      <td>538.0</td>\n",
       "      <td>792.0</td>\n",
       "      <td>W</td>\n",
       "      <td>NaN</td>\n",
       "      <td>2003-07-29</td>\n",
       "      <td>2003-07-29</td>\n",
       "      <td>Dubious open reading frame; unlikely to encode...</td>\n",
       "    </tr>\n",
       "    <tr>\n",
       "      <th>2</th>\n",
       "      <td>S000031372</td>\n",
       "      <td>CDS</td>\n",
       "      <td>NaN</td>\n",
       "      <td>NaN</td>\n",
       "      <td>NaN</td>\n",
       "      <td>NaN</td>\n",
       "      <td>YAL068W-A</td>\n",
       "      <td>NaN</td>\n",
       "      <td>1</td>\n",
       "      <td>538.0</td>\n",
       "      <td>792.0</td>\n",
       "      <td>W</td>\n",
       "      <td>NaN</td>\n",
       "      <td>2003-07-29</td>\n",
       "      <td>2003-07-29</td>\n",
       "      <td>NaN</td>\n",
       "    </tr>\n",
       "    <tr>\n",
       "      <th>3</th>\n",
       "      <td>S000121252</td>\n",
       "      <td>ARS</td>\n",
       "      <td>NaN</td>\n",
       "      <td>ARS102</td>\n",
       "      <td>NaN</td>\n",
       "      <td>ARSI-1</td>\n",
       "      <td>chromosome 1</td>\n",
       "      <td>NaN</td>\n",
       "      <td>1</td>\n",
       "      <td>707.0</td>\n",
       "      <td>776.0</td>\n",
       "      <td>NaN</td>\n",
       "      <td>NaN</td>\n",
       "      <td>2014-11-18</td>\n",
       "      <td>2014-11-18|2007-03-07</td>\n",
       "      <td>Autonomously Replicating Sequence</td>\n",
       "    </tr>\n",
       "    <tr>\n",
       "      <th>4</th>\n",
       "      <td>S000028862</td>\n",
       "      <td>telomere</td>\n",
       "      <td>NaN</td>\n",
       "      <td>TEL01L</td>\n",
       "      <td>NaN</td>\n",
       "      <td>NaN</td>\n",
       "      <td>chromosome 1</td>\n",
       "      <td>NaN</td>\n",
       "      <td>1</td>\n",
       "      <td>801.0</td>\n",
       "      <td>1.0</td>\n",
       "      <td>C</td>\n",
       "      <td>-64.0</td>\n",
       "      <td>2003-09-09</td>\n",
       "      <td>2003-09-09</td>\n",
       "      <td>Telomeric region on the left arm of Chromosome...</td>\n",
       "    </tr>\n",
       "  </tbody>\n",
       "</table>\n",
       "</div>"
      ],
      "text/plain": [
       "        SGDID FEATURE_TYPE FEATURE_QUALIFIER FEATURE_NAME STANDARD_GENE_NAME  \\\n",
       "0  S000031098          CDS               NaN          NaN                NaN   \n",
       "1  S000028594          ORF           Dubious    YAL068W-A                NaN   \n",
       "2  S000031372          CDS               NaN          NaN                NaN   \n",
       "3  S000121252          ARS               NaN       ARS102                NaN   \n",
       "4  S000028862     telomere               NaN       TEL01L                NaN   \n",
       "\n",
       "    ALIAS PARENT_FEATURE_NAME SECONDARY_SGDID CHROMOSOME  START_COORDINATE  \\\n",
       "0     NaN             YAL069W             NaN          1             335.0   \n",
       "1     NaN        chromosome 1             NaN          1             538.0   \n",
       "2     NaN           YAL068W-A             NaN          1             538.0   \n",
       "3  ARSI-1        chromosome 1             NaN          1             707.0   \n",
       "4     NaN        chromosome 1             NaN          1             801.0   \n",
       "\n",
       "   STOP_COORDINATE STRAND  GENETIC_POSITION COORDINATE_VERSION  \\\n",
       "0            649.0      W               NaN         1996-07-31   \n",
       "1            792.0      W               NaN         2003-07-29   \n",
       "2            792.0      W               NaN         2003-07-29   \n",
       "3            776.0    NaN               NaN         2014-11-18   \n",
       "4              1.0      C             -64.0         2003-09-09   \n",
       "\n",
       "        SEQUENCE_VERSION                                        DESCRIPTION  \n",
       "0             1996-07-31                                                NaN  \n",
       "1             2003-07-29  Dubious open reading frame; unlikely to encode...  \n",
       "2             2003-07-29                                                NaN  \n",
       "3  2014-11-18|2007-03-07                  Autonomously Replicating Sequence  \n",
       "4             2003-09-09  Telomeric region on the left arm of Chromosome...  "
      ]
     },
     "execution_count": 4,
     "metadata": {},
     "output_type": "execute_result"
    }
   ],
   "source": [
    "df.head()"
   ]
  },
  {
   "cell_type": "code",
   "execution_count": 8,
   "id": "9ae77397-07b9-4120-89f5-13ac982a2987",
   "metadata": {},
   "outputs": [
    {
     "data": {
      "text/plain": [
       "Index(['SGDID', 'FEATURE_TYPE', 'FEATURE_QUALIFIER', 'FEATURE_NAME',\n",
       "       'STANDARD_GENE_NAME', 'ALIAS', 'PARENT_FEATURE_NAME', 'SECONDARY_SGDID',\n",
       "       'CHROMOSOME', 'START_COORDINATE', 'STOP_COORDINATE', 'STRAND',\n",
       "       'GENETIC_POSITION', 'COORDINATE_VERSION', 'SEQUENCE_VERSION',\n",
       "       'DESCRIPTION'],\n",
       "      dtype='object')"
      ]
     },
     "execution_count": 8,
     "metadata": {},
     "output_type": "execute_result"
    }
   ],
   "source": [
    "df.columns"
   ]
  },
  {
   "cell_type": "code",
   "execution_count": 10,
   "id": "c6217ad9-8e9c-4b04-9c6a-407a256c31dd",
   "metadata": {},
   "outputs": [
    {
     "data": {
      "text/plain": [
       "SGDID                   object\n",
       "FEATURE_TYPE            object\n",
       "FEATURE_QUALIFIER       object\n",
       "FEATURE_NAME            object\n",
       "STANDARD_GENE_NAME      object\n",
       "ALIAS                   object\n",
       "PARENT_FEATURE_NAME     object\n",
       "SECONDARY_SGDID         object\n",
       "CHROMOSOME              object\n",
       "START_COORDINATE       float64\n",
       "STOP_COORDINATE        float64\n",
       "STRAND                  object\n",
       "GENETIC_POSITION       float64\n",
       "COORDINATE_VERSION      object\n",
       "SEQUENCE_VERSION        object\n",
       "DESCRIPTION             object\n",
       "dtype: object"
      ]
     },
     "execution_count": 10,
     "metadata": {},
     "output_type": "execute_result"
    }
   ],
   "source": [
    "df.dtypes"
   ]
  },
  {
   "cell_type": "code",
   "execution_count": 11,
   "id": "9468626f-d683-4ba1-9811-bda12d196e96",
   "metadata": {},
   "outputs": [
    {
     "data": {
      "text/plain": [
       "SGDID                  16453\n",
       "FEATURE_TYPE              44\n",
       "FEATURE_QUALIFIER          5\n",
       "FEATURE_NAME            8060\n",
       "STANDARD_GENE_NAME      5463\n",
       "ALIAS                   4182\n",
       "PARENT_FEATURE_NAME     7401\n",
       "SECONDARY_SGDID         3899\n",
       "CHROMOSOME                18\n",
       "START_COORDINATE        8998\n",
       "STOP_COORDINATE         9018\n",
       "STRAND                     2\n",
       "GENETIC_POSITION         391\n",
       "COORDINATE_VERSION        63\n",
       "SEQUENCE_VERSION         364\n",
       "DESCRIPTION             6538\n",
       "dtype: int64"
      ]
     },
     "execution_count": 11,
     "metadata": {},
     "output_type": "execute_result"
    }
   ],
   "source": [
    "df.nunique()"
   ]
  },
  {
   "cell_type": "code",
   "execution_count": 12,
   "id": "5152d4bd-0e39-4984-80ea-1df85bdb4e56",
   "metadata": {},
   "outputs": [
    {
     "data": {
      "text/plain": [
       "array([nan, 'PAU8', 'SEO1', ..., 'XDH1', 'IMI1', 'MPR2'], dtype=object)"
      ]
     },
     "execution_count": 12,
     "metadata": {},
     "output_type": "execute_result"
    }
   ],
   "source": [
    "df[\"STANDARD_GENE_NAME\"].unique()"
   ]
  },
  {
   "cell_type": "code",
   "execution_count": 14,
   "id": "617f4ade-a2d2-492f-a2f0-073ba9dd0722",
   "metadata": {},
   "outputs": [
    {
     "data": {
      "text/plain": [
       "array(['CDS', 'ORF', 'ARS', 'telomere', 'telomeric_repeat', 'X_element',\n",
       "       'X_element_combinatorial_repeat', 'long_terminal_repeat',\n",
       "       'ARS_consensus_sequence', 'intron', 'ncRNA_gene', 'noncoding_exon',\n",
       "       'tRNA_gene', 'snoRNA_gene', 'centromere',\n",
       "       'centromere_DNA_Element_I', 'centromere_DNA_Element_II',\n",
       "       'centromere_DNA_Element_III', 'transposable_element_gene',\n",
       "       'LTR_retrotransposon', 'pseudogene', 'Y_prime_element',\n",
       "       'five_prime_UTR_intron', 'plus_1_translational_frameshift',\n",
       "       'matrix_attachment_site', 'gene_group', 'snRNA_gene', 'rRNA_gene',\n",
       "       'external_transcribed_spacer_region',\n",
       "       'internal_transcribed_spacer_region', 'non_transcribed_region',\n",
       "       'blocked_reading_frame', 'origin_of_replication',\n",
       "       'telomerase_RNA_gene', 'silent_mating_type_cassette_array',\n",
       "       'W_region', 'X_region', 'Y_region', 'Z1_region', 'Z2_region',\n",
       "       'mating_type_region', 'intein_encoding_region',\n",
       "       'not physically mapped', 'not in systematic sequence of S288C'],\n",
       "      dtype=object)"
      ]
     },
     "execution_count": 14,
     "metadata": {},
     "output_type": "execute_result"
    }
   ],
   "source": [
    "df[\"FEATURE_TYPE\"].unique()"
   ]
  }
 ],
 "metadata": {
  "kernelspec": {
   "display_name": "Python 3 (ipykernel)",
   "language": "python",
   "name": "python3"
  },
  "language_info": {
   "codemirror_mode": {
    "name": "ipython",
    "version": 3
   },
   "file_extension": ".py",
   "mimetype": "text/x-python",
   "name": "python",
   "nbconvert_exporter": "python",
   "pygments_lexer": "ipython3",
   "version": "3.10.12"
  }
 },
 "nbformat": 4,
 "nbformat_minor": 5
}
